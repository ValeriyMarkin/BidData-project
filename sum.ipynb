{
 "cells": [
  {
   "cell_type": "code",
   "execution_count": null,
   "id": "7d918458-f140-457b-b80e-46993011e995",
   "metadata": {},
   "outputs": [],
   "source": [
    "def sum(table,col):\n",
    "    idx = table.col_names.index(col)\n",
    "    S=0\n",
    "    if table.storage == \"row\":\n",
    "        for row in table.data:\n",
    "            S=S+row[idx]\n",
    "        \n",
    "        return S\n",
    "    else:\n",
    "        column_To_sum = table.data[idx]\n",
    "        \n",
    "        for val in column_To_sum:\n",
    "            S=S+val\n",
    "        \n",
    "        return S"
   ]
  }
 ],
 "metadata": {
  "kernelspec": {
   "display_name": "Python 3",
   "language": "python",
   "name": "python3"
  },
  "language_info": {
   "codemirror_mode": {
    "name": "ipython",
    "version": 3
   },
   "file_extension": ".py",
   "mimetype": "text/x-python",
   "name": "python",
   "nbconvert_exporter": "python",
   "pygments_lexer": "ipython3",
   "version": "3.8.8"
  }
 },
 "nbformat": 4,
 "nbformat_minor": 5
}
